{
  "cells": [
    {
      "cell_type": "code",
      "execution_count": 1,
      "metadata": {
        "colab": {
          "base_uri": "https://localhost:8080/"
        },
        "id": "kdP6uAPO6WgN",
        "outputId": "4cb6fae9-4b61-465d-8b6a-fc5e8595edaf"
      },
      "outputs": [
        {
          "output_type": "stream",
          "name": "stdout",
          "text": [
            "Mounted at /content/drive\n"
          ]
        }
      ],
      "source": [
        "from google.colab import drive\n",
        "drive.mount('/content/drive')"
      ]
    },
    {
      "cell_type": "code",
      "execution_count": 1,
      "metadata": {
        "id": "ycta27EP5RLp"
      },
      "outputs": [],
      "source": [
        "import pandas as pd\n",
        "import os\n",
        "from skimage.transform import resize\n",
        "from skimage.io import imread\n",
        "import numpy as np\n",
        "import matplotlib.pyplot as plt\n",
        "from sklearn import svm\n",
        "from sklearn.model_selection import GridSearchCV\n",
        "from sklearn.model_selection import train_test_split\n",
        "from sklearn.metrics import accuracy_score\n",
        "from sklearn.metrics import classification_report"
      ]
    },
    {
      "cell_type": "code",
      "execution_count": 27,
      "metadata": {
        "colab": {
          "base_uri": "https://localhost:8080/"
        },
        "id": "1PQdXnjf5aP9",
        "outputId": "5944ed92-79a9-48ee-ce8e-1ff4616329de"
      },
      "outputs": [
        {
          "output_type": "stream",
          "name": "stdout",
          "text": [
            "loading... category : Normaln\n",
            "loaded category:Normaln successfully\n",
            "loading... category : Abnormaln\n",
            "loaded category:Abnormaln successfully\n"
          ]
        }
      ],
      "source": [
        "Categories=['Normaln','Abnormaln']\n",
        "flat_data_arr=[] #input array\n",
        "target_arr=[] #output array\n",
        "datadir='/content/drive/MyDrive/Lung Dataset/Cropped'\n",
        "#path which contains all the categories of images\n",
        "for i in Categories:\n",
        "\n",
        "    print(f'loading... category : {i}')\n",
        "    path=os.path.join(datadir,i)\n",
        "    for img in os.listdir(path):\n",
        "        img_array=imread(os.path.join(path,img))\n",
        "        img_resized=resize(img_array,(300,300))\n",
        "        flat_data_arr.append(img_resized.flatten())\n",
        "        target_arr.append(Categories.index(i))\n",
        "    print(f'loaded category:{i} successfully')\n",
        "flat_data=np.array(flat_data_arr)\n",
        "target=np.array(target_arr)"
      ]
    },
    {
      "cell_type": "code",
      "execution_count": 28,
      "metadata": {
        "id": "IlxRHo99NwNj"
      },
      "outputs": [],
      "source": [
        "import pickle\n",
        "pick_x=open('/content/drive/MyDrive/Lung Dataset/trained_updated/X-data276-300.pickle','wb')\n",
        "pickle.dump(flat_data,pick_x)\n",
        "pick_x.close()\n",
        "\n",
        "pick_y=open('/content/drive/MyDrive/Lung Dataset/trained_updated/Y-data276-300.pickle','wb')\n",
        "pickle.dump(target,pick_y)\n",
        "pick_y.close()\n"
      ]
    },
    {
      "cell_type": "code",
      "execution_count": 2,
      "metadata": {
        "id": "KuEFio8cP-4U"
      },
      "outputs": [],
      "source": [
        "import pickle\n",
        "pick_x=open('/content/drive/MyDrive/Lung Dataset/trained_updated/X-data276-300.pickle','rb')\n",
        "flat_data=pickle.load(pick_x)\n",
        "pick_x.close()\n",
        "\n",
        "pick_y=open('/content/drive/MyDrive/Lung Dataset/trained_updated/Y-data276-300.pickle','rb')\n",
        "target=pickle.load(pick_y)\n",
        "pick_y.close()"
      ]
    },
    {
      "cell_type": "code",
      "execution_count": 3,
      "metadata": {
        "colab": {
          "base_uri": "https://localhost:8080/"
        },
        "id": "2JnEpsKN5hjy",
        "outputId": "95a18fb0-9549-4cf0-9953-28a27fffd5ad"
      },
      "outputs": [
        {
          "output_type": "execute_result",
          "data": {
            "text/plain": [
              "(246, 360001)"
            ]
          },
          "metadata": {},
          "execution_count": 3
        }
      ],
      "source": [
        "df=pd.DataFrame(flat_data)\n",
        "df['Target']=target\n",
        "df.shape"
      ]
    },
    {
      "cell_type": "code",
      "execution_count": 4,
      "metadata": {
        "id": "PAIOwTWg5jnt"
      },
      "outputs": [],
      "source": [
        "#input data\n",
        "x=df.iloc[:,:-1]\n",
        "#output data\n",
        "y=df.iloc[:,-1]"
      ]
    },
    {
      "cell_type": "code",
      "execution_count": 5,
      "metadata": {
        "id": "tpyQKosL5lL2"
      },
      "outputs": [],
      "source": [
        "# Splitting the data into training and testing sets\n",
        "x_train,x_test,y_train,y_test=train_test_split(x,y,test_size=0.20,\n",
        "                                               random_state=0,\n",
        "                                               stratify=y)"
      ]
    },
    {
      "cell_type": "code",
      "execution_count": null,
      "metadata": {
        "id": "lARE4g7C5oI4"
      },
      "outputs": [],
      "source": [
        "# # Defining the parameters grid for GridSearchCV\n",
        "# param_grid={'C':[0.1,1,10,100],\n",
        "#             'gamma':[0.0001,0.001,0.1,1],\n",
        "#             'kernel':['rbf','poly']}\n",
        "\n",
        "# # Creating a support vector classifier\n",
        "# svc=svm.SVC(probability=True)\n",
        "\n",
        "# # Creating a model using GridSearchCV with the parameters grid\n",
        "# model=GridSearchCV(svc,param_grid)"
      ]
    },
    {
      "cell_type": "code",
      "source": [],
      "metadata": {
        "id": "gI5h32dAd9BZ"
      },
      "execution_count": null,
      "outputs": []
    },
    {
      "cell_type": "code",
      "source": [
        "from sklearn.ensemble import AdaBoostClassifier\n",
        "\n",
        "# Import Support Vector Classifier\n",
        "from sklearn.svm import SVC\n",
        "#Import scikit-learn metrics module for accuracy calculation\n",
        "from sklearn import metrics\n",
        "svc=SVC(C=5,gamma=1,probability=True, kernel='linear')\n",
        "\n",
        "# Create adaboost classifer object\n",
        "abc =AdaBoostClassifier(n_estimators=1, estimator=svc,learning_rate=0.001)\n",
        "\n",
        "# Train Adaboost Classifer\n",
        "model = abc.fit(x_train, y_train)\n",
        "\n",
        "#Predict the response for test dataset\n",
        "y_pred = model.predict(x_test)\n",
        "\n",
        "\n",
        "# Model Accuracy, how often is the classifier correct?\n",
        "print(\"Accuracy:\",metrics.accuracy_score(y_test, y_pred))"
      ],
      "metadata": {
        "colab": {
          "base_uri": "https://localhost:8080/"
        },
        "id": "3EWAfVKiElvI",
        "outputId": "2ddab3fd-fa3b-4710-e547-f5d5e0edaafa"
      },
      "execution_count": 26,
      "outputs": [
        {
          "output_type": "stream",
          "name": "stdout",
          "text": [
            "Accuracy: 0.86\n"
          ]
        }
      ]
    },
    {
      "cell_type": "code",
      "source": [
        "# MLP\n",
        "from sklearn.neural_network import MLPClassifier\n",
        "from sklearn.model_selection import GridSearchCV\n",
        "\n",
        "cls = MLPClassifier(activation = 'logistic')\n",
        "\n",
        "cls.fit(x_train, y_train)\n",
        "y_pred = cls.predict(x_test)\n",
        "\n",
        "accuracy = accuracy_score(y_pred, y_test)\n",
        "\n",
        "# Print the accuracy of the model\n",
        "print(f\"The model is {accuracy*100}% accurate\")"
      ],
      "metadata": {
        "colab": {
          "base_uri": "https://localhost:8080/"
        },
        "id": "9aXXvml63Vbe",
        "outputId": "a48a16ae-f83b-4420-c87c-2818538bbd91"
      },
      "execution_count": 20,
      "outputs": [
        {
          "output_type": "stream",
          "name": "stdout",
          "text": [
            "The model is 62.0% accurate\n"
          ]
        }
      ]
    },
    {
      "cell_type": "code",
      "execution_count": 33,
      "metadata": {
        "colab": {
          "base_uri": "https://localhost:8080/"
        },
        "id": "rWwu4mH75r53",
        "outputId": "1add3a6a-2c2d-49a8-eb11-2b308435f245"
      },
      "outputs": [
        {
          "output_type": "stream",
          "name": "stdout",
          "text": [
            "1.0\n",
            "The model is 86.0% accurate\n"
          ]
        }
      ],
      "source": [
        "#SVM\n",
        "svmmod=svm.SVC(C=10,gamma=0.2,kernel='poly')\n",
        "\n",
        "# Training the model using the training data\n",
        "svmmod.fit(x_train,y_train)\n",
        "\n",
        "y_pred =svmmod.predict(x_test)\n",
        "\n",
        "print(svmmod.score(x_train,y_train))\n",
        "# Calculating the accuracy of the model\n",
        "accuracy = accuracy_score(y_pred, y_test)\n",
        "\n",
        "# Print the accuracy of the model\n",
        "print(f\"The model is {accuracy*100}% accurate\")\n",
        "\n",
        "# pick=open('/content/drive/MyDrive/Capstone/svm-150-1-1-poly.pickle','wb')\n",
        "# pickle.dump(svmmod,pick)\n",
        "# pick.close()\n"
      ]
    },
    {
      "cell_type": "code",
      "execution_count": 29,
      "metadata": {
        "colab": {
          "base_uri": "https://localhost:8080/"
        },
        "id": "TpB3zjpPqWwY",
        "outputId": "c98665ca-e2fc-4cdb-c3b0-1f6a5316a37c"
      },
      "outputs": [
        {
          "output_type": "stream",
          "name": "stdout",
          "text": [
            "0.9183673469387755\n",
            "The model is 88.0% accurate\n"
          ]
        }
      ],
      "source": [
        "#KNN\n",
        "from sklearn.neighbors import KNeighborsClassifier\n",
        "knn = KNeighborsClassifier(n_neighbors = 5, metric = 'minkowski', p = 2)\n",
        "knn.fit(x_train, y_train)\n",
        "\n",
        "y_pred =knn.predict(x_test)\n",
        "\n",
        "print(knn.score(x_train,y_train))\n",
        "# Calculating the accuracy of the model\n",
        "accuracy = accuracy_score(y_pred, y_test)\n",
        "\n",
        "# Print the accuracy of the model\n",
        "print(f\"The model is {accuracy*100}% accurate\")\n"
      ]
    },
    {
      "cell_type": "code",
      "source": [
        " #logistic regression\n",
        "from sklearn.linear_model import LogisticRegression\n",
        "log=LogisticRegression(random_state=0)\n",
        "log.fit(x_train,y_train)\n",
        "\n",
        "y_pred =log.predict(x_test)\n",
        "\n",
        "print(log.score(x_train,y_train))\n",
        "# Calculating the accuracy of the model\n",
        "accuracy = accuracy_score(y_pred, y_test)\n",
        "\n",
        "# Print the accuracy of the model\n",
        "print(f\"The model is {accuracy*100}% accurate\")"
      ],
      "metadata": {
        "colab": {
          "base_uri": "https://localhost:8080/"
        },
        "id": "WPNhCBssoBBO",
        "outputId": "a2e6dafa-d444-45d7-fd40-ad3d7e006238"
      },
      "execution_count": 23,
      "outputs": [
        {
          "output_type": "stream",
          "name": "stderr",
          "text": [
            "/usr/local/lib/python3.10/dist-packages/sklearn/linear_model/_logistic.py:458: ConvergenceWarning: lbfgs failed to converge (status=1):\n",
            "STOP: TOTAL NO. of ITERATIONS REACHED LIMIT.\n",
            "\n",
            "Increase the number of iterations (max_iter) or scale the data as shown in:\n",
            "    https://scikit-learn.org/stable/modules/preprocessing.html\n",
            "Please also refer to the documentation for alternative solver options:\n",
            "    https://scikit-learn.org/stable/modules/linear_model.html#logistic-regression\n",
            "  n_iter_i = _check_optimize_result(\n"
          ]
        },
        {
          "output_type": "stream",
          "name": "stdout",
          "text": [
            "1.0\n",
            "The model is 82.0% accurate\n"
          ]
        }
      ]
    },
    {
      "cell_type": "code",
      "source": [
        "#decision tree\n",
        "from sklearn.tree import DecisionTreeClassifier\n",
        "tree=DecisionTreeClassifier(criterion='log_loss',random_state=0)\n",
        "tree.fit(x_train,y_train)\n",
        "\n",
        "y_pred =tree.predict(x_test)\n",
        "\n",
        "print(tree.score(x_train,y_train))\n",
        "# Calculating the accuracy of the model\n",
        "accuracy = accuracy_score(y_pred, y_test)\n",
        "\n",
        "# Print the accuracy of the model\n",
        "print(f\"The model is {accuracy*100}% accurate\")"
      ],
      "metadata": {
        "colab": {
          "base_uri": "https://localhost:8080/"
        },
        "id": "Ifyqq5KMoFav",
        "outputId": "5b4269c2-ad6b-4844-e607-426a52571733"
      },
      "execution_count": 24,
      "outputs": [
        {
          "output_type": "stream",
          "name": "stdout",
          "text": [
            "1.0\n",
            "The model is 74.0% accurate\n"
          ]
        }
      ]
    },
    {
      "cell_type": "code",
      "source": [
        "#Random forest\n",
        "from sklearn.ensemble import RandomForestClassifier\n",
        "forest=RandomForestClassifier(n_estimators=15,criterion='entropy',random_state=0)\n",
        "forest.fit(x_train,y_train)\n",
        "\n",
        "y_pred =forest.predict(x_test)\n",
        "\n",
        "print(forest.score(x_train,y_train))\n",
        "# Calculating the accuracy of the model\n",
        "accuracy = accuracy_score(y_pred, y_test)\n",
        "\n",
        "# Print the accuracy of the model\n",
        "print(f\"The model is {accuracy*100}% accurate\")"
      ],
      "metadata": {
        "colab": {
          "base_uri": "https://localhost:8080/"
        },
        "id": "8kwu91bsojao",
        "outputId": "0ea80e37-4eaa-4fa2-ba6d-02bdda6aa6df"
      },
      "execution_count": 25,
      "outputs": [
        {
          "output_type": "stream",
          "name": "stdout",
          "text": [
            "1.0\n",
            "The model is 84.0% accurate\n"
          ]
        }
      ]
    },
    {
      "cell_type": "code",
      "source": [
        "#Using GaussianNB\n",
        "from sklearn.naive_bayes import GaussianNB\n",
        "gauss = GaussianNB()\n",
        "gauss.fit(x_train, y_train)\n",
        "\n",
        "y_pred =gauss.predict(x_test)\n",
        "\n",
        "print(gauss.score(x_train,y_train))\n",
        "# Calculating the accuracy of the model\n",
        "accuracy = accuracy_score(y_pred, y_test)\n",
        "\n",
        "# Print the accuracy of the model\n",
        "print(f\"The model is {accuracy*100}% accurate\")"
      ],
      "metadata": {
        "colab": {
          "base_uri": "https://localhost:8080/"
        },
        "id": "_fN-QC3FpcLL",
        "outputId": "89be6e96-8594-4ed5-e985-09dc10a18d7e"
      },
      "execution_count": 26,
      "outputs": [
        {
          "output_type": "stream",
          "name": "stdout",
          "text": [
            "0.8928571428571429\n",
            "The model is 82.0% accurate\n"
          ]
        }
      ]
    },
    {
      "cell_type": "code",
      "source": [
        "def dataGenerator():\n",
        "  x = []\n",
        "  y = []\n",
        "  for file in os.listdir('/content/drive/MyDrive/Lung Dataset/Dataset/all img'):\n",
        "    img = Image.open(\"/content/drive/MyDrive/Lung Dataset/Dataset/all img/{}\".format(file))\n",
        "    img.resize(64,64,3)\n",
        "\n",
        "    #Converting the images into RGB vlaues\n",
        "    x = np.asarray(img.convert('RGB'))\n",
        "    x = np.array([x])\n",
        "    if file.startswith('JPCLN') : y = to_categorical([1])\n",
        "    else: y = to_categorical([0])\n",
        "    yield x, y"
      ],
      "metadata": {
        "id": "tvsYQtw-qLXw"
      },
      "execution_count": 17,
      "outputs": []
    },
    {
      "cell_type": "code",
      "source": [
        "import os\n",
        "import numpy as np\n",
        "import pandas as pd\n",
        "from PIL import Image\n",
        "from sklearn import svm\n",
        "import cv2\n",
        "from google.colab.patches import cv2_imshow\n",
        "import matplotlib.pyplot as plt\n",
        "from sklearn.decomposition import PCA\n",
        "from keras.models import Sequential\n",
        "from tensorflow.keras.utils import to_categorical\n",
        "from sklearn.pipeline import make_pipeline\n",
        "from sklearn.model_selection import GridSearchCV\n",
        "from sklearn.neighbors import KNeighborsClassifier\n",
        "from keras.layers import Flatten, Convolution2D, MaxPooling2D\n",
        "from keras.layers import LSTM, Dense, Dropout, TimeDistributed\n",
        "from keras.layers import LSTM, Dense, Dropout, Masking, Embedding\n",
        "from sklearn.model_selection import train_test_split, GridSearchCV, StratifiedKFold\n",
        "from keras.layers import Dense, Dropout, Activation, Flatten, Convolution2D, MaxPooling2D\n",
        "from sklearn.metrics import classification_report, confusion_matrix, PrecisionRecallDisplay\n"
      ],
      "metadata": {
        "id": "VMOJZ6dSvCMZ"
      },
      "execution_count": null,
      "outputs": []
    },
    {
      "cell_type": "code",
      "source": [
        "#CNN\n",
        "classifier = Sequential()\n",
        "classifier.add(Convolution2D(32, 3, 3, input_shape = (64, 64, 3), activation = 'relu'))\n",
        "classifier.add(MaxPooling2D(pool_size = (2, 2)))\n",
        "classifier.add(Convolution2D(32, 3, 3, activation = 'relu'))\n",
        "classifier.add(MaxPooling2D(pool_size = (2, 2)))\n",
        "classifier.add(Flatten())\n",
        "classifier.add(Dense(units = 256, activation = 'relu')) # Adding the Hidden Layer\n",
        "classifier.add(Dense(units = 2, activation = 'softmax')) #Adding the output layer\n",
        "print(classifier.summary())\n",
        "\n",
        "classifier.compile(optimizer = 'adam', loss = 'binary_crossentropy', metrics = ['accuracy'])\n"
      ],
      "metadata": {
        "colab": {
          "base_uri": "https://localhost:8080/"
        },
        "id": "dUaBdPawulof",
        "outputId": "4ba354f5-a9de-4b94-af3b-55548e5864ce"
      },
      "execution_count": null,
      "outputs": [
        {
          "output_type": "stream",
          "name": "stdout",
          "text": [
            "Model: \"sequential\"\n",
            "_________________________________________________________________\n",
            " Layer (type)                Output Shape              Param #   \n",
            "=================================================================\n",
            " conv2d (Conv2D)             (None, 21, 21, 32)        896       \n",
            "                                                                 \n",
            " max_pooling2d (MaxPooling2  (None, 10, 10, 32)        0         \n",
            " D)                                                              \n",
            "                                                                 \n",
            " conv2d_1 (Conv2D)           (None, 3, 3, 32)          9248      \n",
            "                                                                 \n",
            " max_pooling2d_1 (MaxPoolin  (None, 1, 1, 32)          0         \n",
            " g2D)                                                            \n",
            "                                                                 \n",
            " flatten (Flatten)           (None, 32)                0         \n",
            "                                                                 \n",
            " dense (Dense)               (None, 256)               8448      \n",
            "                                                                 \n",
            " dense_1 (Dense)             (None, 2)                 514       \n",
            "                                                                 \n",
            "=================================================================\n",
            "Total params: 19106 (74.63 KB)\n",
            "Trainable params: 19106 (74.63 KB)\n",
            "Non-trainable params: 0 (0.00 Byte)\n",
            "_________________________________________________________________\n",
            "None\n"
          ]
        }
      ]
    }
  ],
  "metadata": {
    "colab": {
      "provenance": [],
      "gpuType": "T4"
    },
    "kernelspec": {
      "display_name": "Python 3",
      "name": "python3"
    },
    "language_info": {
      "name": "python"
    },
    "accelerator": "GPU"
  },
  "nbformat": 4,
  "nbformat_minor": 0
}